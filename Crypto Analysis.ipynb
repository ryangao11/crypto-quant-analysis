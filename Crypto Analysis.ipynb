{
 "cells": [
  {
   "cell_type": "code",
   "execution_count": 18,
   "metadata": {},
   "outputs": [
    {
     "name": "stdout",
     "output_type": "stream",
     "text": [
      "0.0033901960784313723\n",
      "Mean return of assets\n",
      "BTC        0.080920\n",
      "ETH        0.378666\n",
      "S&P 500    0.009103\n",
      "dtype: float64\n",
      "Risk of assets\n",
      "BTC        0.250335\n",
      "ETH        0.705859\n",
      "S&P 500    0.027971\n",
      "dtype: float64\n"
     ]
    }
   ],
   "source": [
    "import numpy as np\n",
    "import pandas as pd\n",
    "from scipy.stats.mstats import gmean\n",
    "from scipy.optimize import minimize\n",
    "\n",
    "# read csv feature data in using pandas\n",
    "hist_data = pd.read_csv('data-combined.csv', \n",
    "                        delimiter=' *, *', engine='python')\n",
    "hist_data.head()\n",
    "\n",
    "monthly_return = hist_data[['BTC Price', 'ETH Price', 'S&P 500 Price']].pct_change()\n",
    "monthly_return.columns = ['BTC', 'ETH', 'S&P 500']\n",
    "\n",
    "risk_free_rate = hist_data['T-Bill (% change)'].mean() / 100.0\n",
    "print(risk_free_rate)\n",
    "\n",
    "mean_return = monthly_return.mean()\n",
    "print('Mean return of assets')\n",
    "print(mean_return)\n",
    "std_return = monthly_return.std()\n",
    "print('Risk of assets')\n",
    "print(std_return)"
   ]
  },
  {
   "cell_type": "code",
   "execution_count": null,
   "metadata": {
    "collapsed": true
   },
   "outputs": [],
   "source": [
    "# Sharpe Ratio\n"
   ]
  }
 ],
 "metadata": {
  "kernelspec": {
   "display_name": "Python 3",
   "language": "python",
   "name": "python3"
  },
  "language_info": {
   "codemirror_mode": {
    "name": "ipython",
    "version": 3
   },
   "file_extension": ".py",
   "mimetype": "text/x-python",
   "name": "python",
   "nbconvert_exporter": "python",
   "pygments_lexer": "ipython3",
   "version": "3.6.3"
  }
 },
 "nbformat": 4,
 "nbformat_minor": 2
}
